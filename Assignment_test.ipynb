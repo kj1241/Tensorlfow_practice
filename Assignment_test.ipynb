{
 "cells": [
  {
   "cell_type": "code",
   "execution_count": null,
   "metadata": {},
   "outputs": [],
   "source": [
    "import pandas as pd\n",
    "import numpy as np\n",
    "\n",
    "print(pd.__version__)\n",
    "print(np.__version__)"
   ]
  },
  {
   "cell_type": "code",
   "execution_count": null,
   "metadata": {},
   "outputs": [],
   "source": [
    "#인덱스 ,index_col=\"patientid\" 소문자로 되있네..\n",
    "train = pd.read_csv(\"data/ml_10_medicalalert_train.csv\",index_col=\"patientid\")\n",
    "test = pd.read_csv(\"data/ml_10_medicalalert_test.csv\",index_col=\"patientid\")\n",
    "#train = pd.read_csv(\"data/ml_10_medicalalert_train.csv\")\n",
    "#test = pd.read_csv(\"data/ml_10_medicalalert_test.csv\")\n",
    "\n",
    "print(train.shape)\n",
    "print(test.shape)\n"
   ]
  },
  {
   "cell_type": "code",
   "execution_count": null,
   "metadata": {},
   "outputs": [],
   "source": [
    "train.dtypes"
   ]
  },
  {
   "cell_type": "code",
   "execution_count": null,
   "metadata": {},
   "outputs": [],
   "source": [
    "test.dtypes"
   ]
  },
  {
   "cell_type": "code",
   "execution_count": null,
   "metadata": {},
   "outputs": [],
   "source": [
    "train.columns"
   ]
  },
  {
   "cell_type": "code",
   "execution_count": null,
   "metadata": {},
   "outputs": [],
   "source": [
    "train.describe()"
   ]
  },
  {
   "cell_type": "code",
   "execution_count": null,
   "metadata": {},
   "outputs": [],
   "source": [
    "obj_df = train.select_dtypes(include=[\"object\"]).copy()\n",
    "obj_df.head()"
   ]
  },
  {
   "cell_type": "code",
   "execution_count": null,
   "metadata": {},
   "outputs": [],
   "source": [
    "#gl 결측치 심한데 gl=혈당\n",
    "obj_df[obj_df.isnull().any(axis=1)].head(10)"
   ]
  },
  {
   "cell_type": "code",
   "execution_count": null,
   "metadata": {},
   "outputs": [],
   "source": [
    "#결측치 확인.\n",
    "train.info()\n",
    "\n",
    "test.info()"
   ]
  },
  {
   "cell_type": "code",
   "execution_count": null,
   "metadata": {},
   "outputs": [],
   "source": [
    "#상관관계 분석을 해보자.\n",
    "train.corr()\n",
    "#상관 관계가 안나타남으로 일딴 요인분석 차후 생각."
   ]
  },
  {
   "cell_type": "code",
   "execution_count": null,
   "metadata": {},
   "outputs": [],
   "source": [
    "#데이터 처리전 일딴 복사\n",
    "train_c_df = train.copy()\n",
    "test_c_df = train.copy()"
   ]
  },
  {
   "cell_type": "code",
   "execution_count": null,
   "metadata": {},
   "outputs": [],
   "source": [
    "#성별 데이터 전처리\n",
    "train[\"gender\"].value_counts()"
   ]
  },
  {
   "cell_type": "code",
   "execution_count": null,
   "metadata": {},
   "outputs": [],
   "source": [
    "train.loc[train[\"gender\"] == \"M\", \"gender\"] = int(0)\n",
    "train.loc[train[\"gender\"] == \"F\", \"gender\"] = int(1)\n",
    "train.loc[train[\"gender\"] == \"gender\", \"gender\"] = int(0)\n",
    "\n",
    "test.loc[test[\"gender\"] == \"M\", \"gender\"] = int(0)\n",
    "test.loc[test[\"gender\"] == \"F\", \"gender\"] = int(1)\n",
    "\n",
    "train[\"gender\"].value_counts()"
   ]
  },
  {
   "cell_type": "code",
   "execution_count": null,
   "metadata": {},
   "outputs": [],
   "source": [
    "##데이터 타입 못봐서 ... //마지막 오답노트 age->int\n",
    "#위에 쓴거 결측치도 없는데 데이터 타입 안바뀌는 건 이해할 수가 살짝 없음.\n",
    "#train[\"gender\"] = train[\"gender\"].astype(int)\n",
    "train[\"gender\"] = pd.to_numeric(train[\"gender\"], errors=\"coerce\")\n",
    "test[\"gender\"] = pd.to_numeric(test[\"gender\"], errors=\"coerce\")\n",
    "\n",
    "\n",
    "train[\"age\"] = pd.to_numeric(train[\"age\"], errors=\"coerce\")\n",
    "train[\"di\"] = pd.to_numeric(train[\"di\"], errors=\"coerce\")\n",
    "train[\"copd\"] = pd.to_numeric(train[\"copd\"], errors=\"coerce\")\n",
    "train[\"chf\"] = pd.to_numeric(train[\"chf\"], errors=\"coerce\")\n",
    "train[\"ht\"] = pd.to_numeric(train[\"ht\"], errors=\"coerce\")\n",
    "train[\"afib\"] = pd.to_numeric(train[\"afib\"], errors=\"coerce\")\n",
    "train[\"w\"] = pd.to_numeric(train[\"w\"], errors=\"coerce\")\n",
    "train[\"pw\"] = pd.to_numeric(train[\"pw\"], errors=\"coerce\")\n",
    "      \n",
    "\n",
    "\n",
    "train.info()"
   ]
  },
  {
   "cell_type": "code",
   "execution_count": null,
   "metadata": {},
   "outputs": [],
   "source": []
  },
  {
   "cell_type": "code",
   "execution_count": null,
   "metadata": {},
   "outputs": [],
   "source": [
    "train.loc[train[\"alert\"] == \"No\", \"alert\"] = 0\n",
    "train.loc[train[\"alert\"] == \"Yes\", \"alert\"] = 1\n",
    "train.loc[train[\"alert\"] == \"alert\", \"alert\"] = 1"
   ]
  },
  {
   "cell_type": "code",
   "execution_count": null,
   "metadata": {},
   "outputs": [],
   "source": [
    "train.info()\n",
    "test.info()"
   ]
  },
  {
   "cell_type": "code",
   "execution_count": null,
   "metadata": {},
   "outputs": [],
   "source": [
    "#안돌려지는건 처음인데 ... 상관관계가 없을꺼라고 예상\n",
    "train.corr()"
   ]
  },
  {
   "cell_type": "code",
   "execution_count": null,
   "metadata": {},
   "outputs": [],
   "source": [
    "#gl은 너무 데이터가 없어서 컬럼을 제거해야겠고 spo2도 마찬가지 \n",
    "#bps부터는 데이터의 상의함이 생겨서 정확도를 위해선 보간 처리를 해야 될꺼같지만 일딴 시간문제상 보류\n",
    "#일딴 di,chf는 연속되는 실수형이 아님으로 결측치는 0으로 할당\n",
    "\n",
    "\n",
    "\n",
    "train.dropna(axis=1)\n",
    "test.dropna(axis=1)\n",
    "\n",
    "train[\"age\"] = train[\"age\"].fillna(0)\n",
    "train[\"di\"] = train[\"di\"].fillna(0)\n",
    "\n",
    "\n",
    "\n",
    "train[\"chf\"] = train[\"chf\"].fillna(0)\n",
    "train[\"age\"] = train[\"age\"].fillna(0)\n",
    "\n",
    "\n",
    "\n",
    "\n",
    "train[\"gender\"].fillna(0, inplace=True)\n"
   ]
  },
  {
   "cell_type": "code",
   "execution_count": null,
   "metadata": {},
   "outputs": [],
   "source": [
    "y_train = train[\"alert\"]\n",
    "X_train = train.drop(\"alert\",axis=1)\n",
    "X_test = test\n",
    "\n",
    "X_train.columns\n",
    "\n",
    "cat_feature = [\"timestamp\",\"bps\",\"di\",\"copd\",\"chf\",\"ht\",\"afib\",\"w\",\"pw\"]\n",
    "\n",
    "for cat_name in cat_feature:\n",
    "    dummy = pd.get_dummies(train[cat_name], prefix=cat_name)\n",
    "    X_train = pd.concat([X_train,dummy], axis=1)\n",
    "    X_train.drop(cat_name,axis=1,inplace=True)\n",
    "    \n",
    "for cat_name in cat_feature:\n",
    "    dummy = pd.get_dummies(test[cat_name], prefix=cat_name)\n",
    "    X_test = pd.concat([X_test,dummy], axis=1)\n",
    "    X_test.drop(cat_name,axis=1,inplace=True)\n",
    "    \n",
    "X_train.shape\n",
    "\n",
    "X_test.shape\n",
    "\n",
    "set(X_train.columns) - set(X_test.columns)\n",
    "\n",
    "\n",
    "X_train.shape\n",
    "\n",
    "X_test.shape"
   ]
  },
  {
   "cell_type": "code",
   "execution_count": null,
   "metadata": {},
   "outputs": [],
   "source": [
    "X_train.head()\n",
    "\n"
   ]
  },
  {
   "cell_type": "code",
   "execution_count": null,
   "metadata": {},
   "outputs": [],
   "source": [
    "y_train.head()"
   ]
  },
  {
   "cell_type": "code",
   "execution_count": null,
   "metadata": {},
   "outputs": [],
   "source": [
    "from sklearn.tree import DecisionTreeClassifier\n",
    "from sklearn.neighbors import KNeighborsClassifier\n",
    "from sklearn.model_selection import cross_val_score"
   ]
  },
  {
   "cell_type": "code",
   "execution_count": null,
   "metadata": {},
   "outputs": [],
   "source": [
    "#의사 결정나무\n",
    "model = DecisionTreeClassifier()\n",
    "model.fit(X_train, y_train)"
   ]
  },
  {
   "cell_type": "code",
   "execution_count": null,
   "metadata": {},
   "outputs": [],
   "source": [
    "pred = model.predict(test)\n",
    "\n",
    "sub[\"alert\"] = pred\n",
    "sub.to_csv(\"./saveFlie.csv\", index = False)"
   ]
  },
  {
   "cell_type": "code",
   "execution_count": null,
   "metadata": {},
   "outputs": [],
   "source": []
  }
 ],
 "metadata": {
  "kernelspec": {
   "display_name": "Python 3",
   "language": "python",
   "name": "python3"
  },
  "language_info": {
   "codemirror_mode": {
    "name": "ipython",
    "version": 3
   },
   "file_extension": ".py",
   "mimetype": "text/x-python",
   "name": "python",
   "nbconvert_exporter": "python",
   "pygments_lexer": "ipython3",
   "version": "3.8.5"
  }
 },
 "nbformat": 4,
 "nbformat_minor": 4
}
